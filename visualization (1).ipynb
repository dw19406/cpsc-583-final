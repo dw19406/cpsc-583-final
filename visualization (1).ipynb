{
 "cells": [
  {
   "cell_type": "code",
   "execution_count": 1,
   "metadata": {
    "colab": {
     "base_uri": "https://localhost:8080/",
     "height": 619
    },
    "id": "NvZNGFnpIZJO",
    "outputId": "9d44ccf6-d5c8-4456-9d62-401bcfe0d1c0"
   },
   "outputs": [
    {
     "name": "stdout",
     "output_type": "stream",
     "text": [
      "Using torch 2.1.0+cu121\n"
     ]
    },
    {
     "name": "stderr",
     "output_type": "stream",
     "text": [
      "Downloading https://github.com/kimiyoung/planetoid/raw/master/data/ind.cora.x\n",
      "Downloading https://github.com/kimiyoung/planetoid/raw/master/data/ind.cora.tx\n",
      "Downloading https://github.com/kimiyoung/planetoid/raw/master/data/ind.cora.allx\n",
      "Downloading https://github.com/kimiyoung/planetoid/raw/master/data/ind.cora.y\n",
      "Downloading https://github.com/kimiyoung/planetoid/raw/master/data/ind.cora.ty\n",
      "Downloading https://github.com/kimiyoung/planetoid/raw/master/data/ind.cora.ally\n",
      "Downloading https://github.com/kimiyoung/planetoid/raw/master/data/ind.cora.graph\n",
      "Downloading https://github.com/kimiyoung/planetoid/raw/master/data/ind.cora.test.index\n",
      "Processing...\n"
     ]
    },
    {
     "name": "stdout",
     "output_type": "stream",
     "text": [
      "Dataset: cora():\n",
      "======================\n",
      "Number of graphs: 1\n",
      "Number of features: 1433\n",
      "Number of classes: 7\n",
      "Total number of nodes: 2708\n",
      "Number of nodes: 2708\n",
      "Average number of nodes per graph:2708.0\n",
      "Total number of edges: 10556\n",
      "Number of edges: 10556\n",
      "Average number of edges per graph: 10556.0\n",
      "Number of edges: 10556\n",
      "Average node degree: 3.90\n",
      "Number of training nodes: 140\n",
      "Training node label rate: 0.05\n",
      "Contains isolated nodes: False\n",
      "Contains self-loops: False\n",
      "Is undirected: True\n",
      "tensor([351, 217, 418, 818, 426, 298, 180])\n"
     ]
    },
    {
     "name": "stderr",
     "output_type": "stream",
     "text": [
      "Done!\n"
     ]
    },
    {
     "data": {
      "image/png": "[encoded data removed]",
      "text/plain": [
       "<Figure size 640x480 with 1 Axes>"
      ]
     },
     "metadata": {},
     "output_type": "display_data"
    }
   ],
   "source": [
    "from torch.utils.data import dataloader\n",
    "import os\n",
    "import torch\n",
    "print(\"Using torch\", torch.__version__)\n",
    "from torch_geometric.datasets import Planetoid\n",
    "import matplotlib.pyplot as plt\n",
    "\n",
    "dataset = Planetoid('/tmp/cora', 'cora')\n",
    "data = dataset[0]\n",
    "\n",
    "print(f'Dataset: {dataset}:')\n",
    "print('======================')\n",
    "print(f'Number of graphs: {len(dataset)}')\n",
    "print(f'Number of features: {dataset.num_features}')\n",
    "print(f'Number of classes: {dataset.num_classes}')\n",
    "print(f'Total number of nodes: {sum([dataset[i].num_nodes for i in range(len(dataset))])}')\n",
    "print(f'Number of nodes: {data.num_nodes}')\n",
    "print(f'Average number of nodes per graph:{sum([dataset[i].num_nodes for i in range(len(dataset))])/len(dataset)}')\n",
    "print(f'Total number of edges: {sum([dataset[i].num_edges for i in range(len(dataset))])}')\n",
    "print(f'Number of edges: {data.num_edges}')\n",
    "print(f'Average number of edges per graph: {sum([dataset[i].num_edges for i in range(len(dataset))])/len(dataset)}')\n",
    "print(f'Number of edges: {data.num_edges}')\n",
    "print(f'Average node degree: {data.num_edges / data.num_nodes:.2f}')\n",
    "print(f'Number of training nodes: {data.train_mask.sum()}')\n",
    "print(f'Training node label rate: {int(data.train_mask.sum()) / data.num_nodes:.2f}')\n",
    "print(f'Contains isolated nodes: {data.has_isolated_nodes()}')\n",
    "print(f'Contains self-loops: {data.has_self_loops()}')\n",
    "print(f'Is undirected: {data.is_undirected()}')\n",
    "print(torch.bincount(data.y))\n",
    "plt.hist(data.y,bins=7)\n",
    "plt.show()"
   ]
  },
  {
   "cell_type": "code",
   "execution_count": 2,
   "metadata": {
    "id": "HoJnhwRLUWJi"
   },
   "outputs": [
    {
     "name": "stderr",
     "output_type": "stream",
     "text": [
      "Downloading https://github.com/kimiyoung/planetoid/raw/master/data/ind.citeseer.x\n",
      "Downloading https://github.com/kimiyoung/planetoid/raw/master/data/ind.citeseer.tx\n",
      "Downloading https://github.com/kimiyoung/planetoid/raw/master/data/ind.citeseer.allx\n",
      "Downloading https://github.com/kimiyoung/planetoid/raw/master/data/ind.citeseer.y\n",
      "Downloading https://github.com/kimiyoung/planetoid/raw/master/data/ind.citeseer.ty\n",
      "Downloading https://github.com/kimiyoung/planetoid/raw/master/data/ind.citeseer.ally\n",
      "Downloading https://github.com/kimiyoung/planetoid/raw/master/data/ind.citeseer.graph\n",
      "Downloading https://github.com/kimiyoung/planetoid/raw/master/data/ind.citeseer.test.index\n",
      "Processing...\n"
     ]
    },
    {
     "name": "stdout",
     "output_type": "stream",
     "text": [
      "Dataset: citeseer():\n",
      "======================\n",
      "Number of graphs: 1\n",
      "Number of features: 3703\n",
      "Number of classes: 6\n",
      "Total number of nodes: 3327\n",
      "Number of nodes: 3327\n",
      "Average number of nodes per graph:3327.0\n",
      "Total number of edges: 9104\n",
      "Number of edges: 9104\n",
      "Average number of edges per graph: 9104.0\n",
      "Number of edges: 9104\n",
      "Average node degree: 2.74\n",
      "Contains isolated nodes: True\n",
      "Contains self-loops: False\n",
      "Is undirected: True\n",
      "tensor([3, 1, 5,  ..., 3, 1, 5])\n",
      "tensor([264, 590, 668, 701, 596, 508])\n"
     ]
    },
    {
     "name": "stderr",
     "output_type": "stream",
     "text": [
      "Done!\n"
     ]
    },
    {
     "data": {
      "text/plain": [
       "(array([264., 590., 668., 701., 596., 508.]),\n",
       " array([1., 2., 3., 4., 5., 6., 7.]),\n",
       " <BarContainer object of 6 artists>)"
      ]
     },
     "execution_count": 2,
     "metadata": {},
     "output_type": "execute_result"
    },
    {
     "data": {
      "image/png": "[encoded data removed]",
      "text/plain": [
       "<Figure size 640x480 with 1 Axes>"
      ]
     },
     "metadata": {},
     "output_type": "display_data"
    }
   ],
   "source": [
    "dataset = Planetoid('/tmp/citeseer', 'citeseer')\n",
    "data = dataset[0]\n",
    "\n",
    "print(f'Dataset: {dataset}:')\n",
    "print('======================')\n",
    "print(f'Number of graphs: {len(dataset)}')\n",
    "print(f'Number of features: {dataset.num_features}')\n",
    "print(f'Number of classes: {dataset.num_classes}')\n",
    "print(f'Total number of nodes: {sum([dataset[i].num_nodes for i in range(len(dataset))])}')\n",
    "print(f'Number of nodes: {data.num_nodes}')\n",
    "print(f'Average number of nodes per graph:{sum([dataset[i].num_nodes for i in range(len(dataset))])/len(dataset)}')\n",
    "print(f'Total number of edges: {sum([dataset[i].num_edges for i in range(len(dataset))])}')\n",
    "print(f'Number of edges: {data.num_edges}')\n",
    "print(f'Average number of edges per graph: {sum([dataset[i].num_edges for i in range(len(dataset))])/len(dataset)}')\n",
    "print(f'Number of edges: {data.num_edges}')\n",
    "print(f'Average node degree: {data.num_edges / data.num_nodes:.2f}')\n",
    "#print(f'Number of training nodes: {data.train_mask.sum()}')\n",
    "#print(f'Training node label rate: {int(data.train_mask.sum()) / data.num_nodes:.2f}')\n",
    "print(f'Contains isolated nodes: {data.has_isolated_nodes()}')\n",
    "print(f'Contains self-loops: {data.has_self_loops()}')\n",
    "print(f'Is undirected: {data.is_undirected()}')\n",
    "print(dataset.y)\n",
    "print(torch.bincount(dataset.y))\n",
    "bins=[1,2,3,4,5,6,7]\n",
    "plt.stairs(torch.bincount(dataset.y),bins)\n",
    "plt.hist(bins[:-1], bins, weights=torch.bincount(dataset.y))"
   ]
  },
  {
   "cell_type": "code",
   "execution_count": 4,
   "metadata": {},
   "outputs": [
    {
     "name": "stdout",
     "output_type": "stream",
     "text": [
      "Dataset: pubmed():\n",
      "======================\n",
      "Number of graphs: 1\n",
      "Number of features: 500\n",
      "Number of classes: 3\n",
      "Total number of nodes: 19717\n",
      "Number of nodes: 19717\n",
      "Average number of nodes per graph:19717.0\n",
      "Total number of edges: 88648\n",
      "Number of edges: 88648\n",
      "Average number of edges per graph: 88648.0\n",
      "Number of edges: 88648\n",
      "Average node degree: 4.50\n",
      "Contains isolated nodes: False\n",
      "Contains self-loops: False\n",
      "Is undirected: True\n",
      "tensor([1, 1, 0,  ..., 2, 0, 2])\n",
      "tensor([4103, 7739, 7875])\n"
     ]
    },
    {
     "data": {
      "text/plain": [
       "(array([4103., 7739., 7875.]),\n",
       " array([0., 1., 2., 3.]),\n",
       " <BarContainer object of 3 artists>)"
      ]
     },
     "execution_count": 4,
     "metadata": {},
     "output_type": "execute_result"
    },
    {
     "data": {
      "image/png": "[encoded data removed]",
      "text/plain": [
       "<Figure size 640x480 with 1 Axes>"
      ]
     },
     "metadata": {},
     "output_type": "display_data"
    }
   ],
   "source": [
    "dataset = Planetoid('/tmp/pubmed', 'pubmed')\n",
    "data = dataset[0]\n",
    "\n",
    "print(f'Dataset: {dataset}:')\n",
    "print('======================')\n",
    "print(f'Number of graphs: {len(dataset)}')\n",
    "print(f'Number of features: {dataset.num_features}')\n",
    "print(f'Number of classes: {dataset.num_classes}')\n",
    "print(f'Total number of nodes: {sum([dataset[i].num_nodes for i in range(len(dataset))])}')\n",
    "print(f'Number of nodes: {data.num_nodes}')\n",
    "print(f'Average number of nodes per graph:{sum([dataset[i].num_nodes for i in range(len(dataset))])/len(dataset)}')\n",
    "print(f'Total number of edges: {sum([dataset[i].num_edges for i in range(len(dataset))])}')\n",
    "print(f'Number of edges: {data.num_edges}')\n",
    "print(f'Average number of edges per graph: {sum([dataset[i].num_edges for i in range(len(dataset))])/len(dataset)}')\n",
    "print(f'Number of edges: {data.num_edges}')\n",
    "print(f'Average node degree: {data.num_edges / data.num_nodes:.2f}')\n",
    "#print(f'Number of training nodes: {data.train_mask.sum()}')\n",
    "#print(f'Training node label rate: {int(data.train_mask.sum()) / data.num_nodes:.2f}')\n",
    "print(f'Contains isolated nodes: {data.has_isolated_nodes()}')\n",
    "print(f'Contains self-loops: {data.has_self_loops()}')\n",
    "print(f'Is undirected: {data.is_undirected()}')\n",
    "print(dataset.y)\n",
    "print(torch.bincount(dataset.y))\n",
    "bins=[0,1,2,3]\n",
    "plt.stairs(torch.bincount(dataset.y),bins)\n",
    "plt.hist(bins[:-1], bins, weights=torch.bincount(dataset.y))"
   ]
  },
  {
   "cell_type": "code",
   "execution_count": null,
   "metadata": {},
   "outputs": [],
   "source": []
  }
 ],
 "metadata": {
  "accelerator": "GPU",
  "colab": {
   "gpuType": "T4",
   "provenance": []
  },
  "kernelspec": {
   "display_name": "Python 3 (ipykernel)",
   "language": "python",
   "name": "python3"
  },
  "language_info": {
   "codemirror_mode": {
    "name": "ipython",
    "version": 3
   },
   "file_extension": ".py",
   "mimetype": "text/x-python",
   "name": "python",
   "nbconvert_exporter": "python",
   "pygments_lexer": "ipython3",
   "version": "3.11.6"
  }
 },
 "nbformat": 4,
 "nbformat_minor": 4
}
